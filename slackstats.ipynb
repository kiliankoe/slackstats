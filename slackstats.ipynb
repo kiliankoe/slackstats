{
 "cells": [
  {
   "cell_type": "code",
   "execution_count": null,
   "metadata": {},
   "outputs": [],
   "source": [
    "import json\n",
    "\n",
    "with open('export/users.json', 'r') as file:\n",
    "    users = json.loads(file.read())\n",
    "    users = [(user['id'], user['name']) for user in users]\n",
    "    users = dict(users)\n",
    "\n",
    "print(f'{len(users)} users found')"
   ]
  },
  {
   "cell_type": "code",
   "execution_count": null,
   "metadata": {},
   "outputs": [],
   "source": [
    "from glob import glob\n",
    "import datetime\n",
    "import re\n",
    "import os\n",
    "import json\n",
    "\n",
    "all_messages = []\n",
    "\n",
    "def replace_user_id(match):\n",
    "    id = match.group(1)\n",
    "    return users.get(id, 'unknown_user')\n",
    "\n",
    "ignored_message_subtypes = [\n",
    "    'channel_join', \n",
    "    'channel_leave', \n",
    "    'channel_purpose', \n",
    "    'file_share', \n",
    "    'channel_archive', \n",
    "    'bot_message'\n",
    "]\n",
    "\n",
    "channel_dirs = glob('export/*/')\n",
    "for channel_dir in channel_dirs:\n",
    "    channel_name = channel_dir.split('/')[-2]\n",
    "    days = os.listdir(channel_dir)\n",
    "    for day in days:\n",
    "#         print(f'Processing {channel_name}/{day}')\n",
    "        with open(f'{channel_dir}{day}', 'r') as file:\n",
    "            day = json.loads(file.read())\n",
    "            \n",
    "            for message in day:\n",
    "#                 user = users.get(message.get('user'))\n",
    "#                 message['user'] = user\n",
    "                    \n",
    "                msg = message.get('text')\n",
    "                if msg is None:\n",
    "                    msg = ''\n",
    "                text = re.sub(r'<@(.+)>', replace_user_id, msg)\n",
    "                message['text'] = text\n",
    "                message['channel'] = channel_name\n",
    "                \n",
    "                all_messages.append(message)\n",
    "\n",
    "with open('dump.json', 'w') as f:\n",
    "    json = json.dumps(all_messages)\n",
    "    f.write(json)\n",
    "    \n",
    "print(f'Wrote {len(all_messages)} messages to dump.json.')"
   ]
  },
  {
   "cell_type": "code",
   "execution_count": null,
   "metadata": {
    "scrolled": true
   },
   "outputs": [],
   "source": [
    "from collections import defaultdict\n",
    "import re\n",
    "\n",
    "emoji_reactions = defaultdict(lambda: 0)\n",
    "inline_emoji = defaultdict(lambda: 0)\n",
    "\n",
    "for message in all_messages:\n",
    "    if 'reactions' in message:\n",
    "        for reaction in message['reactions']:\n",
    "            emoji_reactions[reaction['name']] += 1\n",
    "    if 'text' in message and message['text'] is not None:\n",
    "        for emoji in re.findall(':(\\S?\\w+):', message['text'], re.MULTILINE):\n",
    "            inline_emoji[emoji] += 1\n",
    "            \n",
    "print('EMOJI REACTIONS')\n",
    "for reaction in sorted(emoji_reactions, key=emoji_reactions.get, reverse=True):\n",
    "    print(f':{reaction}:, {emoji_reactions[reaction]}')\n",
    "    \n",
    "print('\\n\\n\\nINLINE EMOJI')\n",
    "for reaction in sorted(inline_emoji, key=inline_emoji.get, reverse=True):\n",
    "    print(f':{reaction}:, {inline_emoji[reaction]}')"
   ]
  },
  {
   "cell_type": "code",
   "execution_count": null,
   "metadata": {},
   "outputs": [],
   "source": [
    "user_messages = {}\n",
    "\n",
    "for user_id, username in users.items():\n",
    "    messages = [msg for msg in all_messages if msg['user'] == username]\n",
    "    user_messages[username] = messages"
   ]
  },
  {
   "cell_type": "code",
   "execution_count": null,
   "metadata": {
    "scrolled": true
   },
   "outputs": [],
   "source": [
    "user_messages_count = {}\n",
    "for user, msgs in user_messages.items():\n",
    "    user_messages_count[user] = len(msgs)\n",
    "\n",
    "import operator\n",
    "sorted_messages = sorted(user_messages_count.items(), key=operator.itemgetter(1))\n",
    "\n",
    "for user, count in sorted_messages[::-1]:\n",
    "    if count < 100:\n",
    "        break\n",
    "    print(f'{user},{count}')"
   ]
  },
  {
   "cell_type": "code",
   "execution_count": null,
   "metadata": {
    "scrolled": true
   },
   "outputs": [],
   "source": [
    "import markovify\n",
    "\n",
    "text = '\\n'.join([msg['text'] for msg in user_messages['kilian']])\n",
    "text_model = markovify.Text(text)\n",
    "\n",
    "for i in range(10):\n",
    "    print(text_model.make_short_sentence(140))"
   ]
  }
 ],
 "metadata": {
  "kernelspec": {
   "display_name": "Python 3",
   "language": "python",
   "name": "python3"
  },
  "language_info": {
   "codemirror_mode": {
    "name": "ipython",
    "version": 3
   },
   "file_extension": ".py",
   "mimetype": "text/x-python",
   "name": "python",
   "nbconvert_exporter": "python",
   "pygments_lexer": "ipython3",
   "version": "3.6.3"
  }
 },
 "nbformat": 4,
 "nbformat_minor": 2
}
