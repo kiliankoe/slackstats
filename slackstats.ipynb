{
 "cells": [
  {
   "cell_type": "code",
   "execution_count": 64,
   "metadata": {},
   "outputs": [
    {
     "name": "stdout",
     "output_type": "stream",
     "text": [
      "824 users found\n"
     ]
    }
   ],
   "source": [
    "import json\n",
    "\n",
    "with open('export/users.json', 'r') as file:\n",
    "    users = json.loads(file.read())\n",
    "    users = [(user['id'], user['name']) for user in users]\n",
    "    users = dict(users)\n",
    "\n",
    "print(f'{len(users)} users found')"
   ]
  },
  {
   "cell_type": "code",
   "execution_count": 98,
   "metadata": {},
   "outputs": [
    {
     "name": "stdout",
     "output_type": "stream",
     "text": [
      "218871 messages found\n"
     ]
    }
   ],
   "source": [
    "from glob import glob\n",
    "import datetime\n",
    "import re\n",
    "\n",
    "all_messages = []\n",
    "\n",
    "def replace_user_id(match):\n",
    "    id = match.group(1)\n",
    "    return users.get(id, 'unknown_user')\n",
    "\n",
    "ignored_channels = []\n",
    "ignored_message_subtypes = [\n",
    "    'channel_join', \n",
    "    'channel_leave', \n",
    "    'channel_purpose', \n",
    "    'file_share', \n",
    "    'channel_archive', \n",
    "    'bot_message'\n",
    "]\n",
    "\n",
    "channel_dirs = glob('export/*/')\n",
    "for channel_dir in channel_dirs:\n",
    "    channel_name = channel_dir.split('/')[-2]\n",
    "    if channel_name in ignored_channels:\n",
    "        continue\n",
    "    days = os.listdir(channel_dir)\n",
    "#     print(f'{len(days)} days in {channel_name}')\n",
    "    for day in days:\n",
    "#         print(f'Processing {channel_name}/{day}')\n",
    "        with open(f'{channel_dir}{day}', 'r') as file:\n",
    "            day = json.loads(file.read())\n",
    "            for message in day:\n",
    "                if message.get('subtype') in ignored_message_subtypes:\n",
    "                    continue\n",
    "                user = users.get(message.get('user'))\n",
    "                    \n",
    "                msg = message.get('text')\n",
    "                if msg is None:\n",
    "                    msg = ''\n",
    "\n",
    "                text = re.sub(r'<@(.+)>', replace_user_id, msg)\n",
    "                timestamp = datetime.datetime.fromtimestamp(int(float(message.get('ts'))))\n",
    "\n",
    "                all_messages.append({'channel': channel_name, 'timestamp': timestamp, 'user': user, 'text': text})\n",
    "\n",
    "print(f'{len(all_messages)} messages found')\n",
    "# for msg in all_messages[:2]:\n",
    "#     print(f\"{msg['channel']} {msg['timestamp']} <{msg['user']}> {msg['text']}\")"
   ]
  },
  {
   "cell_type": "code",
   "execution_count": 103,
   "metadata": {},
   "outputs": [],
   "source": [
    "user_messages = {}\n",
    "\n",
    "for user_id, username in users.items():\n",
    "    messages = [msg for msg in all_messages if msg['user'] == username]\n",
    "    user_messages[username] = messages"
   ]
  },
  {
   "cell_type": "code",
   "execution_count": 115,
   "metadata": {
    "scrolled": true
   },
   "outputs": [
    {
     "name": "stdout",
     "output_type": "stream",
     "text": [
      "Hatte da mal zu eng gedacht. ich kann den Cursor nur in meiner inbox landet.\n",
      "Verboten wird sowas von großartig Ich hab's geliebt!\n",
      "Was man wrappt und wie reagierst du sonst wahrscheinlich eher ueberhaupt kein geld bekommen :smile: sehr traurig^^ Weil man's nicht braucht?\n",
      "Meine Safari Reading List ist viel mehr daran, die FB Apps auf jeden Fall bedeutend mehr, das stimmt.\n",
      "Natürlich nur mit großen Waffen, bin mir da ziemlich sicher, weil die den Service selbst nutzt?\n",
      "Aber ich würde mir was performanteres als Foundation für alle Zeit in Schach halten und Beine abhacken, dann geht's recht zügig.\n",
      "Gesehen hab ich dann erstmal nachrennen muss.\n",
      "Will nicht unnötig darauf rumsitzen wenn ein Auftraggeber da gern was hätte?\n",
      ":blush: Ich find's ziemlich schade, dass die Adresse dir gehört.\n",
      "Uuuh stark, thx für die nahtlose Usability führt vermutlich nicht reichen. du musst deine Geräte kurz abgeben.\n"
     ]
    }
   ],
   "source": [
    "import markovify\n",
    "\n",
    "text = '\\n'.join([msg['text'] for msg in user_messages['kilian']])\n",
    "text_model = markovify.Text(text)\n",
    "\n",
    "for i in range(10):\n",
    "    print(text_model.make_short_sentence(140))"
   ]
  }
 ],
 "metadata": {
  "kernelspec": {
   "display_name": "Python 3",
   "language": "python",
   "name": "python3"
  },
  "language_info": {
   "codemirror_mode": {
    "name": "ipython",
    "version": 3
   },
   "file_extension": ".py",
   "mimetype": "text/x-python",
   "name": "python",
   "nbconvert_exporter": "python",
   "pygments_lexer": "ipython3",
   "version": "3.6.3"
  }
 },
 "nbformat": 4,
 "nbformat_minor": 2
}
