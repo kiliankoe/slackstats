{
 "cells": [
  {
   "cell_type": "code",
   "execution_count": 64,
   "metadata": {},
   "outputs": [
    {
     "name": "stdout",
     "output_type": "stream",
     "text": [
      "824 users found\n"
     ]
    }
   ],
   "source": [
    "import json\n",
    "\n",
    "with open('export/users.json', 'r') as file:\n",
    "    users = json.loads(file.read())\n",
    "    users = [(user['id'], user['name']) for user in users]\n",
    "    users = dict(users)\n",
    "\n",
    "print(f'{len(users)} users found')"
   ]
  },
  {
   "cell_type": "code",
   "execution_count": 98,
   "metadata": {},
   "outputs": [
    {
     "name": "stdout",
     "output_type": "stream",
     "text": [
      "218871 messages found\n"
     ]
    }
   ],
   "source": [
    "from glob import glob\n",
    "import datetime\n",
    "import re\n",
    "\n",
    "all_messages = []\n",
    "\n",
    "def replace_user_id(match):\n",
    "    id = match.group(1)\n",
    "    return users.get(id, 'unknown_user')\n",
    "\n",
    "ignored_channels = []\n",
    "ignored_message_subtypes = [\n",
    "    'channel_join', \n",
    "    'channel_leave', \n",
    "    'channel_purpose', \n",
    "    'file_share', \n",
    "    'channel_archive', \n",
    "    'bot_message'\n",
    "]\n",
    "\n",
    "channel_dirs = glob('export/*/')\n",
    "for channel_dir in channel_dirs:\n",
    "    channel_name = channel_dir.split('/')[-2]\n",
    "    if channel_name in ignored_channels:\n",
    "        continue\n",
    "    days = os.listdir(channel_dir)\n",
    "#     print(f'{len(days)} days in {channel_name}')\n",
    "    for day in days:\n",
    "#         print(f'Processing {channel_name}/{day}')\n",
    "        with open(f'{channel_dir}{day}', 'r') as file:\n",
    "            day = json.loads(file.read())\n",
    "            for message in day:\n",
    "                if message.get('subtype') in ignored_message_subtypes:\n",
    "                    continue\n",
    "                user = users.get(message.get('user'))\n",
    "                    \n",
    "                msg = message.get('text')\n",
    "                if msg is None:\n",
    "                    msg = ''\n",
    "\n",
    "                text = re.sub(r'<@(.+)>', replace_user_id, msg)\n",
    "                timestamp = datetime.datetime.fromtimestamp(int(float(message.get('ts'))))\n",
    "\n",
    "                all_messages.append({'channel': channel_name, 'timestamp': timestamp, 'user': user, 'text': text})\n",
    "\n",
    "print(f'{len(all_messages)} messages found')\n",
    "# for msg in all_messages[:2]:\n",
    "#     print(f\"{msg['channel']} {msg['timestamp']} <{msg['user']}> {msg['text']}\")"
   ]
  }
 ],
 "metadata": {
  "kernelspec": {
   "display_name": "Python 3",
   "language": "python",
   "name": "python3"
  },
  "language_info": {
   "codemirror_mode": {
    "name": "ipython",
    "version": 3
   },
   "file_extension": ".py",
   "mimetype": "text/x-python",
   "name": "python",
   "nbconvert_exporter": "python",
   "pygments_lexer": "ipython3",
   "version": "3.6.3"
  }
 },
 "nbformat": 4,
 "nbformat_minor": 2
}
